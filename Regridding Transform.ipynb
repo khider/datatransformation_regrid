{
 "cells": [
  {
   "cell_type": "markdown",
   "metadata": {},
   "source": [
    "# Automatic regridding of ECMWF data to match CESM \n",
    "\n",
    "The purpose of this notebook is to automate regirdding of two datasets based on the one with the lowest resolution."
   ]
  },
  {
   "cell_type": "code",
   "execution_count": 1,
   "metadata": {},
   "outputs": [],
   "source": [
    "import xarray as xr\n",
    "import pandas as pd\n",
    "import numpy as np\n",
    "\n",
    "from spharm import Spharmt, regrid"
   ]
  },
  {
   "cell_type": "markdown",
   "metadata": {},
   "source": [
    "Below are a set of functions useful for the regridding"
   ]
  },
  {
   "cell_type": "code",
   "execution_count": 2,
   "metadata": {},
   "outputs": [],
   "source": [
    "def regrid_field(field, lat, lon, lat_new, lon_new):\n",
    "    nlat_old, nlon_old = np.size(lat), np.size(lon)\n",
    "    nlat_new, nlon_new = np.size(lat_new), np.size(lon_new)\n",
    "    spec_old = Spharmt(nlon_old, nlat_old, gridtype='regular', legfunc='computed')\n",
    "    spec_new = Spharmt(nlon_new, nlat_new, gridtype='regular', legfunc='computed')\n",
    "\n",
    "    field_new = []\n",
    "    for field_old in field:\n",
    "        regridded_field =  regrid(spec_old, spec_new, field_old, ntrunc=None, smooth=None)\n",
    "        field_new.append(regridded_field)\n",
    "\n",
    "    field_new = np.array(field_new)\n",
    "    return field_new"
   ]
  },
  {
   "cell_type": "markdown",
   "metadata": {},
   "source": [
    "## Load the data"
   ]
  },
  {
   "cell_type": "code",
   "execution_count": 7,
   "metadata": {},
   "outputs": [],
   "source": [
    "model = ['ECMWF','CESM']\n",
    "ds_ecmwf=xr.open_dataset('ECMWF_12month.nc')\n",
    "ds_cesm=xr.open_dataset('CESM_12month.nc')"
   ]
  },
  {
   "cell_type": "markdown",
   "metadata": {},
   "source": [
    "ECMWF handles decreasing latitude. Reverse for comparison with CESM"
   ]
  },
  {
   "cell_type": "code",
   "execution_count": 9,
   "metadata": {},
   "outputs": [],
   "source": [
    "#Inverse the latitude information in that file\n",
    "ds_ecmwf = ds_ecmwf.reindex(latitude=list(reversed(ds_ecmwf.latitude)))"
   ]
  },
  {
   "cell_type": "markdown",
   "metadata": {},
   "source": [
    "## Regridding\n",
    "\n",
    "The next two cells perform the actual regridding operations for the two variables of interest."
   ]
  },
  {
   "cell_type": "code",
   "execution_count": 10,
   "metadata": {},
   "outputs": [],
   "source": [
    "TS_regrid = regrid_field(ds_ecmwf['t2m'].values,\n",
    "                        ds_ecmwf['latitude'].values,\n",
    "                        ds_ecmwf['longitude'].values,\n",
    "                        ds_cesm['lat'].values,\n",
    "                        ds_cesm['lon'].values)"
   ]
  },
  {
   "cell_type": "code",
   "execution_count": 11,
   "metadata": {},
   "outputs": [],
   "source": [
    "tp_regrid = regrid_field(ds_ecmwf['tp'].values,\n",
    "                        ds_ecmwf['latitude'].values,\n",
    "                        ds_ecmwf['longitude'].values,\n",
    "                        ds_cesm['lat'].values,\n",
    "                        ds_cesm['lon'].values)"
   ]
  },
  {
   "cell_type": "markdown",
   "metadata": {},
   "source": [
    "## Repack into a netcdf"
   ]
  },
  {
   "cell_type": "code",
   "execution_count": 12,
   "metadata": {},
   "outputs": [],
   "source": [
    "time = ds_ecmwf['time']\n",
    "latitude = ds_cesm['lat']\n",
    "longitude = ds_cesm['lon']\n",
    "\n",
    "t2m = xr.DataArray(TS_regrid,coords=[time,latitude,longitude],dims=[\"time\",\"latitude\",\"longitude\"])\n",
    "t2m.attrs=ds_ecmwf['t2m'].attrs"
   ]
  },
  {
   "cell_type": "code",
   "execution_count": 13,
   "metadata": {},
   "outputs": [],
   "source": [
    "tp = xr.DataArray(tp_regrid,coords=[time,latitude,longitude],dims=[\"time\",\"latitude\",\"longitude\"])\n",
    "tp.attrs=ds_ecmwf['tp'].attrs"
   ]
  },
  {
   "cell_type": "code",
   "execution_count": 15,
   "metadata": {},
   "outputs": [],
   "source": [
    "# Pack into a new dataset\n",
    "ds = t2m.to_dataset(name='t2m')\n",
    "ds['tp'] = tp\n",
    "\n",
    "ds.attrs = ds_ecmwf.attrs\n",
    "ds.attrs['description'] = \"This dataset was regridded to CESM grid\"\n",
    "\n",
    "#Inverse the latitude to go back to ECMWF standard\n",
    "ds=ds.sortby('latitude', ascending=False)"
   ]
  },
  {
   "cell_type": "code",
   "execution_count": 16,
   "metadata": {},
   "outputs": [],
   "source": [
    "ds.to_netcdf('ECMWF_regridded_12month.nc')"
   ]
  }
 ],
 "metadata": {
  "kernelspec": {
   "display_name": "Python 3",
   "language": "python",
   "name": "python3"
  },
  "language_info": {
   "codemirror_mode": {
    "name": "ipython",
    "version": 3
   },
   "file_extension": ".py",
   "mimetype": "text/x-python",
   "name": "python",
   "nbconvert_exporter": "python",
   "pygments_lexer": "ipython3",
   "version": "3.9.0"
  }
 },
 "nbformat": 4,
 "nbformat_minor": 4
}
